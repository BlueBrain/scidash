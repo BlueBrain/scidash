{
 "cells": [
  {
   "cell_type": "code",
   "execution_count": 1,
   "metadata": {
    "collapsed": true
   },
   "outputs": [],
   "source": [
    "%run configure.py\n",
    "%matplotlib inline\n",
    "import matplotlib.pyplot as plt\n",
    "from quantities import mV, nA, ms, V, s\n",
    "import math\n",
    "from hippounit import models, tests, capabilities"
   ]
  },
  {
   "cell_type": "code",
   "execution_count": 2,
   "metadata": {
    "collapsed": false
   },
   "outputs": [],
   "source": [
    "experimental_mean_threshold=3.4*mV\n",
    "threshold_SEM=0.2*mV\n",
    "exp_n=92\n",
    "threshold_SD=float(threshold_SEM*math.sqrt(exp_n))*mV\n",
    "\n",
    "threshold_prox=4.5*mV\n",
    "threshold_prox_SEM=0.5*mV\n",
    "n_prox=33\n",
    "threshold_prox_SD=float(threshold_prox_SEM*math.sqrt(n_prox))*mV\n",
    "\n",
    "threshold_dist=2.6*mV\n",
    "threshold_dist_SEM=0.2*mV\n",
    "n_dist=44\n",
    "threshold_dist_SD=float(threshold_dist_SEM*math.sqrt(n_dist))*mV\n",
    "\n",
    "exp_mean_nonlin=142    # %\n",
    "nonlin_SEM=9\n",
    "nonlin_SD=nonlin_SEM*math.sqrt(exp_n)\n",
    "\n",
    "suprath_exp_mean_nonlin=129.0     # %\n",
    "suprath_nonlin_SEM=6.0\n",
    "suprath_nonlin_SD=suprath_nonlin_SEM*math.sqrt(exp_n)\n",
    "\n",
    "exp_mean_peak_deriv=2.6*V /s     #V/s\n",
    "deriv_SEM=0.4*V /s\n",
    "deriv_SD=float(deriv_SEM*math.sqrt(exp_n))*V /s\n",
    "\n",
    "exp_mean_amp= 4.828*mV  # calculated from threshold (expected value for linearity) and from degree of nonlin\n",
    "                    #4.45 using digitizeIt on fig 1 M\n",
    "amp_SEM= 0.28*mV  #using digitizeIt on fig 1 M\n",
    "amp_SD=float(amp_SEM*math.sqrt(exp_n))*mV\n",
    "\n",
    "exp_mean_time_to_peak=13.5*ms\n",
    "exp_mean_time_to_peak_SEM=0.2*ms\n",
    "exp_mean_time_to_peak_SD=float(exp_mean_time_to_peak_SEM*math.sqrt(exp_n))*ms\n",
    "\n",
    "async_nonlin=104.0\n",
    "async_nonlin_SEM=8.0\n",
    "async_n=23\n",
    "async_nonlin_SD=async_nonlin_SEM*math.sqrt(async_n)\n",
    "\n",
    "\n",
    "observation = {'mean_threshold':experimental_mean_threshold,'threshold_sem':threshold_SEM, 'threshold_std': threshold_SD,\n",
    "                'mean_prox_threshold':threshold_prox,'prox_threshold_sem':threshold_prox_SEM, 'prox_threshold_std': threshold_prox_SD,\n",
    "                'mean_dist_threshold':threshold_dist,'dist_threshold_sem':threshold_dist_SEM, 'dist_threshold_std': threshold_dist_SD,\n",
    "                'mean_nonlin_at_th':exp_mean_nonlin,'nonlin_at_th_sem':nonlin_SEM, 'nonlin_at_th_std': nonlin_SD,\n",
    "                'mean_nonlin_suprath':suprath_exp_mean_nonlin,'nonlin_suprath_sem':suprath_nonlin_SEM, 'nonlin_suprath_std': suprath_nonlin_SD,\n",
    "                'mean_peak_deriv':exp_mean_peak_deriv,'peak_deriv_sem':deriv_SEM, 'peak_deriv_std': deriv_SD,\n",
    "                'mean_amp_at_th':exp_mean_amp,'amp_at_th_sem':amp_SEM, 'amp_at_th_std': amp_SD,\n",
    "                'mean_time_to_peak':exp_mean_time_to_peak,'time_to_peak_sem':exp_mean_time_to_peak_SEM, 'time_to_peak_std': exp_mean_time_to_peak_SD,\n",
    "                'mean_async_nonlin':async_nonlin,'async_nonlin_sem':async_nonlin_SEM, 'async_nonlin_std': async_nonlin_SD,\n",
    "                'exp_n':exp_n, 'prox_n':n_prox, 'dist_n':n_dist, 'async_n': async_n}"
   ]
  },
  {
   "cell_type": "code",
   "execution_count": 3,
   "metadata": {
    "collapsed": false
   },
   "outputs": [],
   "source": [
    "show_plot=False\n",
    "test = tests.ObliqueIntegrationTest(observation, force_run_synapse=False, force_run_bin_search=False, show_plot=show_plot)"
   ]
  },
  {
   "cell_type": "code",
   "execution_count": 4,
   "metadata": {
    "collapsed": true
   },
   "outputs": [],
   "source": [
    "model = models.Migliore()"
   ]
  },
  {
   "cell_type": "code",
   "execution_count": 5,
   "metadata": {
    "collapsed": false
   },
   "outputs": [
    {
     "ename": "AttributeError",
     "evalue": "'hoc.HocObject' object has no attribute 'NMDA_JS'",
     "output_type": "error",
     "traceback": [
      "\u001b[0;31m---------------------------------------------------------------------------\u001b[0m",
      "\u001b[0;31mRemoteTraceback\u001b[0m                           Traceback (most recent call last)",
      "\u001b[0;31mRemoteTraceback\u001b[0m: \n\"\"\"\nTraceback (most recent call last):\n  File \"/Library/Frameworks/Python.framework/Versions/3.4/lib/python3.4/multiprocessing/pool.py\", line 119, in worker\n    result = (True, func(*args, **kwds))\n  File \"/Library/Frameworks/Python.framework/Versions/3.4/lib/python3.4/multiprocessing/pool.py\", line 44, in mapstar\n    return list(map(*args))\n  File \"/Users/rgerkin/Dropbox (Personal)/dev/scidash/hippounit/tests/__init__.py\", line 567, in binsearch\n    model.set_ampa_nmda(dend_loc0)\n  File \"/Users/rgerkin/Dropbox (Personal)/dev/scidash/hippounit/models/__init__.py\", line 291, in set_ampa_nmda\n    self.nmda = h.NMDA_JS(xloc, sec=h.apical_dendrite[ndend])\nAttributeError: 'hoc.HocObject' object has no attribute 'NMDA_JS'\n\"\"\"",
      "\nThe above exception was the direct cause of the following exception:\n",
      "\u001b[0;31mAttributeError\u001b[0m                            Traceback (most recent call last)",
      "\u001b[0;32m<ipython-input-5-cfa97dc927b9>\u001b[0m in \u001b[0;36m<module>\u001b[0;34m()\u001b[0m\n\u001b[0;32m----> 1\u001b[0;31m \u001b[0mscore\u001b[0m \u001b[0;34m=\u001b[0m \u001b[0mtest\u001b[0m\u001b[0;34m.\u001b[0m\u001b[0mjudge\u001b[0m\u001b[0;34m(\u001b[0m\u001b[0mmodel\u001b[0m\u001b[0;34m)\u001b[0m\u001b[0;34m\u001b[0m\u001b[0m\n\u001b[0m\u001b[1;32m      2\u001b[0m \u001b[0mscore\u001b[0m\u001b[0;34m.\u001b[0m\u001b[0msummarize\u001b[0m\u001b[0;34m(\u001b[0m\u001b[0;34m)\u001b[0m\u001b[0;34m\u001b[0m\u001b[0m\n\u001b[1;32m      3\u001b[0m \u001b[0;32mif\u001b[0m \u001b[0mshow_plot\u001b[0m\u001b[0;34m:\u001b[0m\u001b[0;34m\u001b[0m\u001b[0m\n\u001b[1;32m      4\u001b[0m     \u001b[0mplt\u001b[0m\u001b[0;34m.\u001b[0m\u001b[0mshow\u001b[0m\u001b[0;34m(\u001b[0m\u001b[0;34m)\u001b[0m\u001b[0;34m\u001b[0m\u001b[0m\n",
      "\u001b[0;32m/Users/rgerkin/Dropbox/dev/scidash/sciunit/sciunit/__init__.py\u001b[0m in \u001b[0;36mjudge\u001b[0;34m(self, model, stop_on_error, deep_error)\u001b[0m\n\u001b[1;32m    168\u001b[0m         \u001b[0mscore\u001b[0m \u001b[0;34m=\u001b[0m \u001b[0mErrorScore\u001b[0m\u001b[0;34m(\u001b[0m\u001b[0me\u001b[0m\u001b[0;34m)\u001b[0m\u001b[0;34m\u001b[0m\u001b[0m\n\u001b[1;32m    169\u001b[0m     \u001b[0;32mif\u001b[0m \u001b[0mtype\u001b[0m\u001b[0;34m(\u001b[0m\u001b[0mscore\u001b[0m\u001b[0;34m)\u001b[0m \u001b[0;32mis\u001b[0m \u001b[0mErrorScore\u001b[0m \u001b[0;32mand\u001b[0m \u001b[0mstop_on_error\u001b[0m\u001b[0;34m:\u001b[0m\u001b[0;34m\u001b[0m\u001b[0m\n\u001b[0;32m--> 170\u001b[0;31m       \u001b[0;32mraise\u001b[0m \u001b[0mscore\u001b[0m\u001b[0;34m.\u001b[0m\u001b[0mscore\u001b[0m \u001b[0;31m# An exception.\u001b[0m\u001b[0;34m\u001b[0m\u001b[0m\n\u001b[0m\u001b[1;32m    171\u001b[0m     \u001b[0;32mreturn\u001b[0m \u001b[0mscore\u001b[0m\u001b[0;34m\u001b[0m\u001b[0m\n\u001b[1;32m    172\u001b[0m \u001b[0;34m\u001b[0m\u001b[0m\n",
      "\u001b[0;32m/Users/rgerkin/Dropbox/dev/scidash/sciunit/sciunit/__init__.py\u001b[0m in \u001b[0;36mjudge\u001b[0;34m(self, model, stop_on_error, deep_error)\u001b[0m\n\u001b[1;32m    162\u001b[0m     \u001b[0;32melse\u001b[0m\u001b[0;34m:\u001b[0m\u001b[0;34m\u001b[0m\u001b[0m\n\u001b[1;32m    163\u001b[0m       \u001b[0;32mtry\u001b[0m\u001b[0;34m:\u001b[0m\u001b[0;34m\u001b[0m\u001b[0m\n\u001b[0;32m--> 164\u001b[0;31m         \u001b[0mscore\u001b[0m \u001b[0;34m=\u001b[0m \u001b[0mself\u001b[0m\u001b[0;34m.\u001b[0m\u001b[0m_judge\u001b[0m\u001b[0;34m(\u001b[0m\u001b[0mmodel\u001b[0m\u001b[0;34m)\u001b[0m\u001b[0;34m\u001b[0m\u001b[0m\n\u001b[0m\u001b[1;32m    165\u001b[0m       \u001b[0;32mexcept\u001b[0m \u001b[0mCapabilityError\u001b[0m \u001b[0;32mas\u001b[0m \u001b[0me\u001b[0m\u001b[0;34m:\u001b[0m\u001b[0;34m\u001b[0m\u001b[0m\n\u001b[1;32m    166\u001b[0m         \u001b[0mscore\u001b[0m \u001b[0;34m=\u001b[0m \u001b[0mNAScore\u001b[0m\u001b[0;34m(\u001b[0m\u001b[0me\u001b[0m\u001b[0;34m)\u001b[0m\u001b[0;34m\u001b[0m\u001b[0m\n",
      "\u001b[0;32m/Users/rgerkin/Dropbox/dev/scidash/sciunit/sciunit/__init__.py\u001b[0m in \u001b[0;36m_judge\u001b[0;34m(self, model)\u001b[0m\n\u001b[1;32m    117\u001b[0m       \u001b[0mself\u001b[0m\u001b[0;34m.\u001b[0m\u001b[0mcheck_capabilities\u001b[0m\u001b[0;34m(\u001b[0m\u001b[0mmodel\u001b[0m\u001b[0;34m)\u001b[0m\u001b[0;34m\u001b[0m\u001b[0m\n\u001b[1;32m    118\u001b[0m       \u001b[0;31m# 2.\u001b[0m\u001b[0;34m\u001b[0m\u001b[0;34m\u001b[0m\u001b[0m\n\u001b[0;32m--> 119\u001b[0;31m       \u001b[0mprediction\u001b[0m \u001b[0;34m=\u001b[0m \u001b[0mself\u001b[0m\u001b[0;34m.\u001b[0m\u001b[0mgenerate_prediction\u001b[0m\u001b[0;34m(\u001b[0m\u001b[0mmodel\u001b[0m\u001b[0;34m)\u001b[0m\u001b[0;34m\u001b[0m\u001b[0m\n\u001b[0m\u001b[1;32m    120\u001b[0m       \u001b[0mself\u001b[0m\u001b[0;34m.\u001b[0m\u001b[0mlast_model\u001b[0m \u001b[0;34m=\u001b[0m \u001b[0mmodel\u001b[0m\u001b[0;34m\u001b[0m\u001b[0m\n\u001b[1;32m    121\u001b[0m       \u001b[0;31m# 3.\u001b[0m\u001b[0;34m\u001b[0m\u001b[0;34m\u001b[0m\u001b[0m\n",
      "\u001b[0;32m/Users/rgerkin/Dropbox (Personal)/dev/scidash/hippounit/tests/__init__.py\u001b[0m in \u001b[0;36mgenerate_prediction\u001b[0;34m(self, model)\u001b[0m\n\u001b[1;32m   1680\u001b[0m                 \u001b[0mbinsearch_\u001b[0m \u001b[0;34m=\u001b[0m \u001b[0mfunctools\u001b[0m\u001b[0;34m.\u001b[0m\u001b[0mpartial\u001b[0m\u001b[0;34m(\u001b[0m\u001b[0mself\u001b[0m\u001b[0;34m.\u001b[0m\u001b[0mbinsearch\u001b[0m\u001b[0;34m,\u001b[0m \u001b[0mmodel\u001b[0m\u001b[0;34m)\u001b[0m\u001b[0;34m\u001b[0m\u001b[0m\n\u001b[1;32m   1681\u001b[0m                 \u001b[0mresult0\u001b[0m \u001b[0;34m=\u001b[0m \u001b[0mpool0\u001b[0m\u001b[0;34m.\u001b[0m\u001b[0mmap_async\u001b[0m\u001b[0;34m(\u001b[0m\u001b[0mbinsearch_\u001b[0m\u001b[0;34m,\u001b[0m \u001b[0mmodel\u001b[0m\u001b[0;34m.\u001b[0m\u001b[0mdend_loc\u001b[0m\u001b[0;34m)\u001b[0m\u001b[0;34m\u001b[0m\u001b[0m\n\u001b[0;32m-> 1682\u001b[0;31m                 \u001b[0mresults0\u001b[0m \u001b[0;34m=\u001b[0m \u001b[0mresult0\u001b[0m\u001b[0;34m.\u001b[0m\u001b[0mget\u001b[0m\u001b[0;34m(\u001b[0m\u001b[0;34m)\u001b[0m\u001b[0;34m\u001b[0m\u001b[0m\n\u001b[0m\u001b[1;32m   1683\u001b[0m \u001b[0;34m\u001b[0m\u001b[0m\n\u001b[1;32m   1684\u001b[0m \u001b[0;34m\u001b[0m\u001b[0m\n",
      "\u001b[0;32m/Library/Frameworks/Python.framework/Versions/3.4/lib/python3.4/multiprocessing/pool.py\u001b[0m in \u001b[0;36mget\u001b[0;34m(self, timeout)\u001b[0m\n\u001b[1;32m    597\u001b[0m             \u001b[0;32mreturn\u001b[0m \u001b[0mself\u001b[0m\u001b[0;34m.\u001b[0m\u001b[0m_value\u001b[0m\u001b[0;34m\u001b[0m\u001b[0m\n\u001b[1;32m    598\u001b[0m         \u001b[0;32melse\u001b[0m\u001b[0;34m:\u001b[0m\u001b[0;34m\u001b[0m\u001b[0m\n\u001b[0;32m--> 599\u001b[0;31m             \u001b[0;32mraise\u001b[0m \u001b[0mself\u001b[0m\u001b[0;34m.\u001b[0m\u001b[0m_value\u001b[0m\u001b[0;34m\u001b[0m\u001b[0m\n\u001b[0m\u001b[1;32m    600\u001b[0m \u001b[0;34m\u001b[0m\u001b[0m\n\u001b[1;32m    601\u001b[0m     \u001b[0;32mdef\u001b[0m \u001b[0m_set\u001b[0m\u001b[0;34m(\u001b[0m\u001b[0mself\u001b[0m\u001b[0;34m,\u001b[0m \u001b[0mi\u001b[0m\u001b[0;34m,\u001b[0m \u001b[0mobj\u001b[0m\u001b[0;34m)\u001b[0m\u001b[0;34m:\u001b[0m\u001b[0;34m\u001b[0m\u001b[0m\n",
      "\u001b[0;31mAttributeError\u001b[0m: 'hoc.HocObject' object has no attribute 'NMDA_JS'"
     ]
    }
   ],
   "source": [
    "score = test.judge(model)\n",
    "score.summarize()\n",
    "if show_plot: \n",
    "    plt.show()"
   ]
  }
 ],
 "metadata": {
  "kernelspec": {
   "display_name": "Python 3",
   "language": "python",
   "name": "python3"
  },
  "language_info": {
   "codemirror_mode": {
    "name": "ipython",
    "version": 3
   },
   "file_extension": ".py",
   "mimetype": "text/x-python",
   "name": "python",
   "nbconvert_exporter": "python",
   "pygments_lexer": "ipython3",
   "version": "3.4.1"
  }
 },
 "nbformat": 4,
 "nbformat_minor": 0
}
